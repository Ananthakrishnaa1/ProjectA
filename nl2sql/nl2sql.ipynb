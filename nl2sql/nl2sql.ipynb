{
 "cells": [
  {
   "cell_type": "code",
   "execution_count": 6,
   "metadata": {},
   "outputs": [
    {
     "name": "stdout",
     "output_type": "stream",
     "text": [
      "76\n"
     ]
    },
    {
     "data": {
      "text/html": [
       "<div>\n",
       "<style scoped>\n",
       "    .dataframe tbody tr th:only-of-type {\n",
       "        vertical-align: middle;\n",
       "    }\n",
       "\n",
       "    .dataframe tbody tr th {\n",
       "        vertical-align: top;\n",
       "    }\n",
       "\n",
       "    .dataframe thead th {\n",
       "        text-align: right;\n",
       "    }\n",
       "</style>\n",
       "<table border=\"1\" class=\"dataframe\">\n",
       "  <thead>\n",
       "    <tr style=\"text-align: right;\">\n",
       "      <th></th>\n",
       "      <th>Rank</th>\n",
       "      <th>Film</th>\n",
       "      <th>Worldwide gross</th>\n",
       "      <th>Year</th>\n",
       "      <th>Superhero(es)</th>\n",
       "      <th>Source</th>\n",
       "      <th>Ref</th>\n",
       "    </tr>\n",
       "  </thead>\n",
       "  <tbody>\n",
       "    <tr>\n",
       "      <th>0</th>\n",
       "      <td>1</td>\n",
       "      <td>Avengers: Endgame</td>\n",
       "      <td>$2,799,439,100</td>\n",
       "      <td>2019</td>\n",
       "      <td>Avengers</td>\n",
       "      <td>Marvel</td>\n",
       "      <td>[1]</td>\n",
       "    </tr>\n",
       "    <tr>\n",
       "      <th>1</th>\n",
       "      <td>2</td>\n",
       "      <td>Avengers: Infinity War</td>\n",
       "      <td>$2,048,359,754</td>\n",
       "      <td>2018</td>\n",
       "      <td>Avengers</td>\n",
       "      <td>Marvel</td>\n",
       "      <td>[2]</td>\n",
       "    </tr>\n",
       "    <tr>\n",
       "      <th>2</th>\n",
       "      <td>3</td>\n",
       "      <td>Spider-Man: No Way Home</td>\n",
       "      <td>$1,926,899,310</td>\n",
       "      <td>2021</td>\n",
       "      <td>Spider-Man</td>\n",
       "      <td>Marvel</td>\n",
       "      <td>[3]</td>\n",
       "    </tr>\n",
       "    <tr>\n",
       "      <th>3</th>\n",
       "      <td>4</td>\n",
       "      <td>The Avengers</td>\n",
       "      <td>$1,518,812,988</td>\n",
       "      <td>2012</td>\n",
       "      <td>Avengers</td>\n",
       "      <td>Marvel</td>\n",
       "      <td>[4]</td>\n",
       "    </tr>\n",
       "    <tr>\n",
       "      <th>4</th>\n",
       "      <td>5</td>\n",
       "      <td>Avengers: Age of Ultron</td>\n",
       "      <td>$1,402,809,540</td>\n",
       "      <td>2015</td>\n",
       "      <td>Avengers</td>\n",
       "      <td>Marvel</td>\n",
       "      <td>[5]</td>\n",
       "    </tr>\n",
       "  </tbody>\n",
       "</table>\n",
       "</div>"
      ],
      "text/plain": [
       "   Rank                     Film Worldwide gross  Year Superhero(es)  Source  \\\n",
       "0     1        Avengers: Endgame  $2,799,439,100  2019      Avengers  Marvel   \n",
       "1     2   Avengers: Infinity War  $2,048,359,754  2018      Avengers  Marvel   \n",
       "2     3  Spider-Man: No Way Home  $1,926,899,310  2021    Spider-Man  Marvel   \n",
       "3     4             The Avengers  $1,518,812,988  2012      Avengers  Marvel   \n",
       "4     5  Avengers: Age of Ultron  $1,402,809,540  2015      Avengers  Marvel   \n",
       "\n",
       "   Ref  \n",
       "0  [1]  \n",
       "1  [2]  \n",
       "2  [3]  \n",
       "3  [4]  \n",
       "4  [5]  "
      ]
     },
     "execution_count": 6,
     "metadata": {},
     "output_type": "execute_result"
    }
   ],
   "source": [
    "import pandas as pd\n",
    "url = 'https://en.wikipedia.org/wiki/List_of_highest-grossing_superhero_films'\n",
    "df = pd.read_html(url)\n",
    "print(len(df))\n",
    "df[0].head()"
   ]
  },
  {
   "cell_type": "code",
   "execution_count": 7,
   "metadata": {},
   "outputs": [
    {
     "name": "stdout",
     "output_type": "stream",
     "text": [
      "(50, 4)\n"
     ]
    },
    {
     "data": {
      "text/html": [
       "<div>\n",
       "<style scoped>\n",
       "    .dataframe tbody tr th:only-of-type {\n",
       "        vertical-align: middle;\n",
       "    }\n",
       "\n",
       "    .dataframe tbody tr th {\n",
       "        vertical-align: top;\n",
       "    }\n",
       "\n",
       "    .dataframe thead th {\n",
       "        text-align: right;\n",
       "    }\n",
       "</style>\n",
       "<table border=\"1\" class=\"dataframe\">\n",
       "  <thead>\n",
       "    <tr style=\"text-align: right;\">\n",
       "      <th></th>\n",
       "      <th>Name</th>\n",
       "      <th>Revenue</th>\n",
       "      <th>Year</th>\n",
       "      <th>Universe</th>\n",
       "    </tr>\n",
       "  </thead>\n",
       "  <tbody>\n",
       "    <tr>\n",
       "      <th>0</th>\n",
       "      <td>Avengers: Endgame</td>\n",
       "      <td>2799.44</td>\n",
       "      <td>2019</td>\n",
       "      <td>Marvel</td>\n",
       "    </tr>\n",
       "    <tr>\n",
       "      <th>1</th>\n",
       "      <td>Avengers: Infinity War</td>\n",
       "      <td>2048.36</td>\n",
       "      <td>2018</td>\n",
       "      <td>Marvel</td>\n",
       "    </tr>\n",
       "    <tr>\n",
       "      <th>2</th>\n",
       "      <td>Spider-Man: No Way Home</td>\n",
       "      <td>1926.90</td>\n",
       "      <td>2021</td>\n",
       "      <td>Marvel</td>\n",
       "    </tr>\n",
       "    <tr>\n",
       "      <th>3</th>\n",
       "      <td>The Avengers</td>\n",
       "      <td>1518.81</td>\n",
       "      <td>2012</td>\n",
       "      <td>Marvel</td>\n",
       "    </tr>\n",
       "    <tr>\n",
       "      <th>4</th>\n",
       "      <td>Avengers: Age of Ultron</td>\n",
       "      <td>1402.81</td>\n",
       "      <td>2015</td>\n",
       "      <td>Marvel</td>\n",
       "    </tr>\n",
       "  </tbody>\n",
       "</table>\n",
       "</div>"
      ],
      "text/plain": [
       "                      Name  Revenue  Year Universe\n",
       "0        Avengers: Endgame  2799.44  2019   Marvel\n",
       "1   Avengers: Infinity War  2048.36  2018   Marvel\n",
       "2  Spider-Man: No Way Home  1926.90  2021   Marvel\n",
       "3             The Avengers  1518.81  2012   Marvel\n",
       "4  Avengers: Age of Ultron  1402.81  2015   Marvel"
      ]
     },
     "execution_count": 7,
     "metadata": {},
     "output_type": "execute_result"
    }
   ],
   "source": [
    "movies_df = df[0].copy().drop(['Ref','Superhero(es)','Rank'],axis=1)\n",
    "movies_df['Worldwide gross'] = movies_df['Worldwide gross'] \\\n",
    "                       .apply(lambda x: ''.join(filter(str.isdigit, x)))\n",
    "movies_df['Worldwide gross'] = (movies_df['Worldwide gross'] \\\n",
    "                       .astype('int') / 1_000_000).round(2)\n",
    "movies_df.columns = ['Name', 'Revenue', 'Year', 'Universe']\n",
    "print(movies_df.shape)\n",
    "movies_df.head()"
   ]
  },
  {
   "cell_type": "code",
   "execution_count": 8,
   "metadata": {},
   "outputs": [],
   "source": [
    "movies_df.to_csv('Movie.csv',index=False)"
   ]
  },
  {
   "cell_type": "code",
   "execution_count": null,
   "metadata": {},
   "outputs": [
    {
     "data": {
      "text/plain": [
       "50"
      ]
     },
     "execution_count": 10,
     "metadata": {},
     "output_type": "execute_result"
    }
   ],
   "source": [
    "import sqlite3\n",
    "\n",
    "## Connect to SQlite\n",
    "connection=sqlite3.connect(\"movie.db\")\n",
    "\n",
    "movies_df.to_sql('Movie',connection)"
   ]
  },
  {
   "cell_type": "code",
   "execution_count": null,
   "metadata": {},
   "outputs": [],
   "source": []
  }
 ],
 "metadata": {
  "kernelspec": {
   "display_name": "Python 3",
   "language": "python",
   "name": "python3"
  },
  "language_info": {
   "codemirror_mode": {
    "name": "ipython",
    "version": 3
   },
   "file_extension": ".py",
   "mimetype": "text/x-python",
   "name": "python",
   "nbconvert_exporter": "python",
   "pygments_lexer": "ipython3",
   "version": "3.13.1"
  }
 },
 "nbformat": 4,
 "nbformat_minor": 2
}
